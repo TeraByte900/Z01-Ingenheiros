{
 "cells": [
  {
   "cell_type": "code",
   "execution_count": 8,
   "metadata": {},
   "outputs": [
    {
     "name": "stdout",
     "output_type": "stream",
     "text": [
      "(1.4959119106464684+0.12857174475039324j)\n"
     ]
    }
   ],
   "source": [
    "#exercício 1 do slide\n",
    "\n",
    "from math import *\n",
    "from cmath import *\n",
    "\n",
    "V = rect(10, radians(30))\n",
    "Z1 = 10 - 3j\n",
    "Z2 = 1 + 1j\n",
    "Z3 = 5 + 2j\n",
    "Zeq1 = 1/(1/Z1 + 1/Z2)\n",
    "Zeq = Zeq1 + Z3\n",
    "I = V/Zeq\n",
    "\n",
    "print(I)"
   ]
  },
  {
   "cell_type": "code",
   "execution_count": 9,
   "metadata": {},
   "outputs": [
    {
     "data": {
      "text/plain": [
       "(1.5014270338455107, 0.08573803394186535)"
      ]
     },
     "execution_count": 9,
     "metadata": {},
     "output_type": "execute_result"
    }
   ],
   "source": [
    "polar(I)"
   ]
  },
  {
   "cell_type": "code",
   "execution_count": 10,
   "metadata": {},
   "outputs": [
    {
     "name": "stdout",
     "output_type": "stream",
     "text": [
      "1.5014270338455107\n",
      "4.9124274886182855\n"
     ]
    }
   ],
   "source": [
    "print(abs(I))\n",
    "print(degrees(phase(I)))"
   ]
  },
  {
   "cell_type": "code",
   "execution_count": 13,
   "metadata": {},
   "outputs": [
    {
     "name": "stdout",
     "output_type": "stream",
     "text": [
      "1.9827934316529174\n",
      "43.5180297233907\n"
     ]
    }
   ],
   "source": [
    "V2 = I*Zeq1\n",
    "\n",
    "print(abs(V2))\n",
    "print(degrees(phase(V2)))"
   ]
  },
  {
   "cell_type": "code",
   "execution_count": 23,
   "metadata": {},
   "outputs": [
    {
     "ename": "SyntaxError",
     "evalue": "invalid syntax (<ipython-input-23-93b22d2e9b5b>, line 12)",
     "output_type": "error",
     "traceback": [
      "\u001b[0;36m  File \u001b[0;32m\"<ipython-input-23-93b22d2e9b5b>\"\u001b[0;36m, line \u001b[0;32m12\u001b[0m\n\u001b[0;31m    print(\"[1 -1 -1 0 0]\")  print(\"oi\")\u001b[0m\n\u001b[0m                                ^\u001b[0m\n\u001b[0;31mSyntaxError\u001b[0m\u001b[0;31m:\u001b[0m invalid syntax\n"
     ]
    }
   ],
   "source": [
    "#exercício 2 do slide\n",
    "\n",
    "#Lei de Kirchoff nos nós\n",
    "'''i1 - i2 - i3 = 0\n",
    "i3 - i4 + (rect(1, radians(30))) = 0\n",
    "\n",
    "#Lei de Kirchoff nas malhas\n",
    "(rect(10, radians(0))) - i1*(1 - 2j) - i2*(3+4j) = 0\n",
    "i2*(3 + 4j) - i3*(5 - 2j) -i4*(-5j) = 0\n",
    "i4*(-5j) - U = 0'''\n",
    "\n",
    "print(\"[1 -1 -1 0 0]\") \n",
    "print(\"[0  0  1-1 0\")\n",
    "print(\"[-1+2j -3+4j 0 0 0]\")\n",
    "print(\"[0 3+4j -5+3j 5j 0]\")\n",
    "print(\"[0 0 0 -5j -1]\")"
   ]
  },
  {
   "cell_type": "code",
   "execution_count": null,
   "metadata": {
    "collapsed": true
   },
   "outputs": [],
   "source": []
  }
 ],
 "metadata": {
  "kernelspec": {
   "display_name": "Python 3",
   "language": "python",
   "name": "python3"
  },
  "language_info": {
   "codemirror_mode": {
    "name": "ipython",
    "version": 3
   },
   "file_extension": ".py",
   "mimetype": "text/x-python",
   "name": "python",
   "nbconvert_exporter": "python",
   "pygments_lexer": "ipython3",
   "version": "3.6.1"
  }
 },
 "nbformat": 4,
 "nbformat_minor": 2
}
